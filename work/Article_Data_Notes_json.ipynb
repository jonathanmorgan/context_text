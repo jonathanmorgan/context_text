{
 "cells": [
  {
   "cell_type": "markdown",
   "metadata": {
    "toc": true
   },
   "source": [
    "<h1>Table of Contents<span class=\"tocSkip\"></span></h1>\n",
    "<div class=\"toc\"><ul class=\"toc-item\"><li><span><a href=\"#Setup\" data-toc-modified-id=\"Setup-1\"><span class=\"toc-item-num\">1&nbsp;&nbsp;</span>Setup</a></span><ul class=\"toc-item\"><li><span><a href=\"#Setup---Imports\" data-toc-modified-id=\"Setup---Imports-1.1\"><span class=\"toc-item-num\">1.1&nbsp;&nbsp;</span>Setup - Imports</a></span></li><li><span><a href=\"#Setup---virtualenv-jupyter-kernel\" data-toc-modified-id=\"Setup---virtualenv-jupyter-kernel-1.2\"><span class=\"toc-item-num\">1.2&nbsp;&nbsp;</span>Setup - virtualenv jupyter kernel</a></span></li><li><span><a href=\"#Setup---Initialize-Django\" data-toc-modified-id=\"Setup---Initialize-Django-1.3\"><span class=\"toc-item-num\">1.3&nbsp;&nbsp;</span>Setup - Initialize Django</a></span></li></ul></li><li><span><a href=\"#Update-Article_Data_Notes-with-type-&quot;json&quot;\" data-toc-modified-id=\"Update-Article_Data_Notes-with-type-&quot;json&quot;-2\"><span class=\"toc-item-num\">2&nbsp;&nbsp;</span>Update Article_Data_Notes with type \"json\"</a></span></li><li><span><a href=\"#Add-note-type-and-tags\" data-toc-modified-id=\"Add-note-type-and-tags-3\"><span class=\"toc-item-num\">3&nbsp;&nbsp;</span>Add note type and tags</a></span><ul class=\"toc-item\"><li><span><a href=\"#Person-Store-JSON\" data-toc-modified-id=\"Person-Store-JSON-3.1\"><span class=\"toc-item-num\">3.1&nbsp;&nbsp;</span>Person Store JSON</a></span></li><li><span><a href=\"#OpenCalais-v.2-JSON\" data-toc-modified-id=\"OpenCalais-v.2-JSON-3.2\"><span class=\"toc-item-num\">3.2&nbsp;&nbsp;</span>OpenCalais v.2 JSON</a></span></li><li><span><a href=\"#OpenCalais-v.1-JSON\" data-toc-modified-id=\"OpenCalais-v.1-JSON-3.3\"><span class=\"toc-item-num\">3.3&nbsp;&nbsp;</span>OpenCalais v.1 JSON</a></span></li><li><span><a href=\"#data-set-mention-coding\" data-toc-modified-id=\"data-set-mention-coding-3.4\"><span class=\"toc-item-num\">3.4&nbsp;&nbsp;</span>data set mention coding</a></span></li><li><span><a href=\"#cleanup\" data-toc-modified-id=\"cleanup-3.5\"><span class=\"toc-item-num\">3.5&nbsp;&nbsp;</span>cleanup</a></span></li></ul></li><li><span><a href=\"#Other-things\" data-toc-modified-id=\"Other-things-4\"><span class=\"toc-item-num\">4&nbsp;&nbsp;</span>Other things</a></span></li></ul></div>"
   ]
  },
  {
   "cell_type": "markdown",
   "metadata": {},
   "source": [
    "# Setup\n",
    "\n",
    "- Back to [Table of Contents](#Table-of-Contents)"
   ]
  },
  {
   "cell_type": "markdown",
   "metadata": {},
   "source": [
    "## Setup - Imports\n",
    "\n",
    "- Back to [Table of Contents](#Table-of-Contents)"
   ]
  },
  {
   "cell_type": "code",
   "execution_count": 3,
   "metadata": {
    "ExecuteTime": {
     "end_time": "2019-05-06T15:18:40.161128Z",
     "start_time": "2019-05-06T15:18:40.154685Z"
    }
   },
   "outputs": [
    {
     "name": "stdout",
     "output_type": "stream",
     "text": [
      "packages imported at 2019-05-06 15:18:40.156636\n"
     ]
    }
   ],
   "source": [
    "import datetime\n",
    "import six\n",
    "\n",
    "print( \"packages imported at \" + str( datetime.datetime.now() ) )"
   ]
  },
  {
   "cell_type": "markdown",
   "metadata": {},
   "source": [
    "## Setup - virtualenv jupyter kernel\n",
    "\n",
    "- Back to [Table of Contents](#Table-of-Contents)\n",
    "\n",
    "If you are using a virtualenv, make sure that you:\n",
    "\n",
    "- have installed your virtualenv as a kernel.\n",
    "- choose the kernel for your virtualenv as the kernel for your notebook (Kernel --> Change kernel).\n",
    "\n",
    "Since I use a virtualenv, need to get that activated somehow inside this notebook.  One option is to run `../dev/wsgi.py` in this notebook, to configure the python environment manually as if you had activated the `sourcenet` virtualenv.  To do this, you'd make a code cell that contains:\n",
    "\n",
    "    %run ../dev/wsgi.py\n",
    "    \n",
    "This is sketchy, however, because of the changes it makes to your Python environment within the context of whatever your current kernel is.  I'd worry about collisions with the actual Python 3 kernel.  Better, one can install their virtualenv as a separate kernel.  Steps:\n",
    "\n",
    "- activate your virtualenv:\n",
    "\n",
    "        workon sourcenet\n",
    "\n",
    "- in your virtualenv, install the package `ipykernel`.\n",
    "\n",
    "        pip install ipykernel\n",
    "\n",
    "- use the ipykernel python program to install the current environment as a kernel:\n",
    "\n",
    "        python -m ipykernel install --user --name <env_name> --display-name \"<display_name>\"\n",
    "        \n",
    "    `sourcenet` example:\n",
    "    \n",
    "        python -m ipykernel install --user --name sourcenet --display-name \"sourcenet (Python 3)\"\n",
    "        \n",
    "More details: [http://ipython.readthedocs.io/en/stable/install/kernel_install.html](http://ipython.readthedocs.io/en/stable/install/kernel_install.html)"
   ]
  },
  {
   "cell_type": "markdown",
   "metadata": {},
   "source": [
    "## Setup - Initialize Django\n",
    "\n",
    "- Back to [Table of Contents](#Table-of-Contents)\n",
    "\n",
    "First, initialize my dev django project, so I can run code in this notebook that references my django models and can talk to the database using my project's settings."
   ]
  },
  {
   "cell_type": "code",
   "execution_count": 1,
   "metadata": {
    "ExecuteTime": {
     "end_time": "2019-05-06T15:18:01.867198Z",
     "start_time": "2019-05-06T15:17:59.151703Z"
    }
   },
   "outputs": [
    {
     "name": "stdout",
     "output_type": "stream",
     "text": [
      "django initialized at 2019-05-06 15:18:01.864559\n"
     ]
    }
   ],
   "source": [
    "%run django_init.py"
   ]
  },
  {
   "cell_type": "code",
   "execution_count": 4,
   "metadata": {
    "ExecuteTime": {
     "end_time": "2019-05-06T16:01:02.544815Z",
     "start_time": "2019-05-06T16:01:02.540855Z"
    }
   },
   "outputs": [],
   "source": [
    "# django imports\n",
    "from context_text.models import Article_Data\n",
    "from context_text.models import Article_Data_Notes\n"
   ]
  },
  {
   "cell_type": "markdown",
   "metadata": {},
   "source": [
    "# Update Article_Data_Notes with type \"json\"\n",
    "\n",
    "- Back to [Table of Contents](#Table-of-Contents)\n",
    "\n",
    "Find all `Article_Data_Notes` with `content_type` = \"json\" and see where their content is stored (`content` or `content_json`)."
   ]
  },
  {
   "cell_type": "code",
   "execution_count": 27,
   "metadata": {
    "ExecuteTime": {
     "end_time": "2019-05-06T21:35:35.089283Z",
     "start_time": "2019-05-06T21:35:33.909804Z"
    }
   },
   "outputs": [
    {
     "name": "stdout",
     "output_type": "stream",
     "text": [
      "- total Article_Data_Notes instances: 2900\n",
      "- has content count: 0\n",
      "- has content_json count: 2900\n"
     ]
    }
   ],
   "source": [
    "# declare variables\n",
    "adn_qs = None\n",
    "adn_count = None\n",
    "adn_instance = None\n",
    "adn_content = None\n",
    "adn_content_json = None\n",
    "has_content_count = None\n",
    "has_content_json_count = None\n",
    "\n",
    "# get all Article_Data_Notes with content_type = 'json'\n",
    "adn_qs = Article_Data_Notes.objects.filter( content_type = \"json\" )\n",
    "adn_count = adn_qs.count()\n",
    "\n",
    "# loop\n",
    "has_content_count = 0\n",
    "has_content_json_count = 0\n",
    "for adn_instance in adn_qs:\n",
    "\n",
    "    # get content and content_json\n",
    "    adn_content = adn_instance.content\n",
    "    adn_content_json = adn_instance.content_json\n",
    "\n",
    "    # content?\n",
    "    if ( ( adn_content is not None ) and ( adn_content != \"\" ) ):\n",
    "        \n",
    "        # increment counter\n",
    "        has_content_count += 1\n",
    "        \n",
    "    #-- END check to see if content present --#\n",
    "    \n",
    "    # content_json?\n",
    "    if ( ( adn_content_json is not None ) and ( adn_content_json != \"\" ) ):\n",
    "        \n",
    "        # increment counter\n",
    "        has_content_json_count += 1\n",
    "        \n",
    "    #-- END check to see if content_json present --#\n",
    "    \n",
    "#-- END loop over Article_Data_Notes instances --#\n",
    "\n",
    "print( \"- total Article_Data_Notes instances: {}\".format( adn_count ) )\n",
    "print( \"- has content count: {}\".format( has_content_count ) )\n",
    "print( \"- has content_json count: {}\".format( has_content_json_count ) )"
   ]
  },
  {
   "cell_type": "code",
   "execution_count": 24,
   "metadata": {
    "ExecuteTime": {
     "end_time": "2019-05-06T21:09:14.402076Z",
     "start_time": "2019-05-06T21:09:14.393101Z"
    }
   },
   "outputs": [
    {
     "name": "stdout",
     "output_type": "stream",
     "text": [
      "1685\n",
      "content: None\n",
      "content_json: {\"person_array\":[{\"person_index\":0,\"person_name\":\"Kaitlin Shawgo\",\"person_type\":\"author\",\"title\":\"\",\"person_organization\":\"The Grand Rapids Press\",\"quote_text\":\"\",\"person_id\":719},{\"person_index\":1,\"person_name\":\"Casey Wondergem\",\"person_type\":\"subject\",\"title\":\"\",\"person_organization\":\"public relations\",\"quote_text\":\"\",\"person_id\":1200}],\"next_person_index\":2,\"name_to_person_index_map\":{\"Kaitlin Shawgo\":0,\"Casey Wondergem\":1},\"id_to_person_index_map\":{\"719\":0,\"1200\":1},\"status_message_array\":[],\"latest_person_index\":1}\n",
      "NOT equal!\n"
     ]
    }
   ],
   "source": [
    "print( adn_instance.id )\n",
    "print( \"content: {}\".format( adn_instance.content ) )\n",
    "print( \"content_json: {}\".format( adn_instance.content_json ) )\n",
    "if ( adn_instance.content == adn_instance.content_json ):\n",
    "    \n",
    "    print( \"Equal!\" )\n",
    "    \n",
    "else:\n",
    "    \n",
    "    print( \"NOT equal!\" )\n",
    "    \n",
    "#-- END check to see if equal --#"
   ]
  },
  {
   "cell_type": "markdown",
   "metadata": {},
   "source": [
    "If has `content`, but not `content_json`, copy the contents of `content` to `content_json`."
   ]
  },
  {
   "cell_type": "code",
   "execution_count": 25,
   "metadata": {
    "ExecuteTime": {
     "end_time": "2019-05-06T21:20:25.564528Z",
     "start_time": "2019-05-06T21:20:15.181478Z"
    }
   },
   "outputs": [
    {
     "name": "stdout",
     "output_type": "stream",
     "text": [
      "- total Article_Data_Notes instances: 2900\n",
      "- has content count: 2897\n",
      "- has content_json count: 3\n",
      "- copied count: 2897\n"
     ]
    }
   ],
   "source": [
    "# declare variables\n",
    "adn_qs = None\n",
    "adn_count = None\n",
    "adn_instance = None\n",
    "adn_content = None\n",
    "adn_content_json = None\n",
    "has_content = None\n",
    "has_content_count = None\n",
    "has_content_json = None\n",
    "has_content_json_count = None\n",
    "copied_count = None\n",
    "\n",
    "# get all Article_Data_Notes with content_type = 'json'\n",
    "adn_qs = Article_Data_Notes.objects.filter( content_type = \"json\" )\n",
    "adn_count = adn_qs.count()\n",
    "\n",
    "# loop\n",
    "has_content_count = 0\n",
    "has_content_json_count = 0\n",
    "copied_count = 0\n",
    "for adn_instance in adn_qs:\n",
    "\n",
    "    # init:\n",
    "    has_content = False\n",
    "    has_content_json = False\n",
    "    \n",
    "    # get content and content_json\n",
    "    adn_content = adn_instance.content\n",
    "    adn_content_json = adn_instance.content_json\n",
    "\n",
    "    # content?\n",
    "    if ( ( adn_content is not None ) and ( adn_content != \"\" ) ):\n",
    "        \n",
    "        # increment counter\n",
    "        has_content = True\n",
    "        has_content_count += 1\n",
    "        \n",
    "    #-- END check to see if content present --#\n",
    "    \n",
    "    # content_json?\n",
    "    if ( ( adn_content_json is not None ) and ( adn_content_json != \"\" ) ):\n",
    "        \n",
    "        # increment counter\n",
    "        has_content_json = True\n",
    "        has_content_json_count += 1\n",
    "        \n",
    "    #-- END check to see if content_json present --#\n",
    "    \n",
    "    # do we have content, but no JSON?\n",
    "    if ( ( has_content == True ) and ( has_content_json == False ) ):\n",
    "        \n",
    "        # content present, but not JSON - copy content to content_json\n",
    "        #     and save().\n",
    "        adn_instance.content_json = adn_instance.content\n",
    "        adn_instance.save()\n",
    "        copied_count += 1\n",
    "        \n",
    "    #-- END check to see if content but not content_json --#\n",
    "    \n",
    "#-- END loop over Article_Data_Notes instances --#\n",
    "\n",
    "print( \"- total Article_Data_Notes instances: {}\".format( adn_count ) )\n",
    "print( \"- has content count: {}\".format( has_content_count ) )\n",
    "print( \"- has content_json count: {}\".format( has_content_json_count ) )\n",
    "print( \"- copied count: {}\".format( copied_count ) )"
   ]
  },
  {
   "cell_type": "markdown",
   "metadata": {},
   "source": [
    "Now, check to see if `content == content_json`.  If so, None out `content` and `save()`."
   ]
  },
  {
   "cell_type": "code",
   "execution_count": 26,
   "metadata": {
    "ExecuteTime": {
     "end_time": "2019-05-06T21:35:11.141126Z",
     "start_time": "2019-05-06T21:35:00.822781Z"
    }
   },
   "outputs": [
    {
     "name": "stdout",
     "output_type": "stream",
     "text": [
      "- total Article_Data_Notes instances: 2900\n",
      "- has content count: 2897\n",
      "- has content_json count: 2900\n",
      "- has both count: 2897\n",
      "- emptied count: 2897\n"
     ]
    }
   ],
   "source": [
    "# declare variables\n",
    "adn_qs = None\n",
    "adn_count = None\n",
    "adn_instance = None\n",
    "adn_content = None\n",
    "adn_content_json = None\n",
    "has_content = None\n",
    "has_content_count = None\n",
    "has_content_json = None\n",
    "has_content_json_count = None\n",
    "has_both_count = None\n",
    "emptied_count = None\n",
    "\n",
    "# get all Article_Data_Notes with content_type = 'json'\n",
    "adn_qs = Article_Data_Notes.objects.filter( content_type = \"json\" )\n",
    "adn_count = adn_qs.count()\n",
    "\n",
    "# loop\n",
    "has_content_count = 0\n",
    "has_content_json_count = 0\n",
    "has_both_count = 0\n",
    "emptied_count = 0\n",
    "for adn_instance in adn_qs:\n",
    "\n",
    "    # init:\n",
    "    has_content = False\n",
    "    has_content_json = False\n",
    "    \n",
    "    # get content and content_json\n",
    "    adn_content = adn_instance.content\n",
    "    adn_content_json = adn_instance.content_json\n",
    "\n",
    "    # content?\n",
    "    if ( ( adn_content is not None ) and ( adn_content != \"\" ) ):\n",
    "        \n",
    "        # increment counter\n",
    "        has_content = True\n",
    "        has_content_count += 1\n",
    "        \n",
    "    #-- END check to see if content present --#\n",
    "    \n",
    "    # content_json?\n",
    "    if ( ( adn_content_json is not None ) and ( adn_content_json != \"\" ) ):\n",
    "        \n",
    "        # increment counter\n",
    "        has_content_json = True\n",
    "        has_content_json_count += 1\n",
    "        \n",
    "    #-- END check to see if content_json present --#\n",
    "    \n",
    "    # do we have content, but no JSON?\n",
    "    if ( ( has_content == True ) and ( has_content_json == True ) ):\n",
    "        \n",
    "        # has both?\n",
    "        has_both_count += 1\n",
    "        \n",
    "        # are they equal?\n",
    "        if ( adn_instance.content == adn_instance.content_json ):\n",
    "            \n",
    "            # they are equal.  None out \"content\" and save().\n",
    "            adn_instance.content = None\n",
    "            adn_instance.save()\n",
    "            emptied_count += 1\n",
    "            \n",
    "        #-- END check to see if content == content_json --#\n",
    "        \n",
    "    #-- END check to see if content and content_json --#\n",
    "    \n",
    "#-- END loop over Article_Data_Notes instances --#\n",
    "\n",
    "print( \"- total Article_Data_Notes instances: {}\".format( adn_count ) )\n",
    "print( \"- has content count: {}\".format( has_content_count ) )\n",
    "print( \"- has content_json count: {}\".format( has_content_json_count ) )\n",
    "print( \"- has both count: {}\".format( has_both_count ) )\n",
    "print( \"- emptied count: {}\".format( emptied_count ) )"
   ]
  },
  {
   "cell_type": "markdown",
   "metadata": {},
   "source": [
    "# Add note type and tags\n",
    "\n",
    "- Back to [Table of Contents](#Table-of-Contents)\n",
    "\n",
    "For existing records, add note type and tags."
   ]
  },
  {
   "cell_type": "markdown",
   "metadata": {},
   "source": [
    "## Person Store JSON\n",
    "\n",
    "- Back to [Table of Contents](#Table-of-Contents)\n",
    "\n",
    "For person store JSON:\n",
    "\n",
    "- if content_description is \"Person Store JSON (likely from manual coding via article-code view).\":\n",
    "\n",
    "    - set note_type to \"Manual_Article_Subject_Coding_data_store_json\"\n",
    "    - add tags:\n",
    "\n",
    "        - \"Manual_Article_Subject_Coding_data_store_json\"\n",
    "        - \"data_store_json\"\n",
    "        - \"methods_paper\"\n",
    "    \n",
    "    - update content_description to \"Manual_Article_Subject_Coding Data Store JSON (likely from manual coding via article-code view).\""
   ]
  },
  {
   "cell_type": "code",
   "execution_count": 43,
   "metadata": {
    "ExecuteTime": {
     "end_time": "2019-05-06T22:16:55.133993Z",
     "start_time": "2019-05-06T22:16:41.339940Z"
    }
   },
   "outputs": [
    {
     "name": "stdout",
     "output_type": "stream",
     "text": [
      "- total Article_Data_Notes instances: 1331\n"
     ]
    }
   ],
   "source": [
    "# declare variables\n",
    "adn_qs = None\n",
    "adn_count = None\n",
    "\n",
    "# get all Article_Data_Notes with content_type = 'json'\n",
    "#adn_qs = Article_Data_Notes.objects.filter( content_type = \"json\" )\n",
    "adn_qs = Article_Data_Notes.objects.all()\n",
    "adn_qs = adn_qs.filter( content_description = \"Person Store JSON (likely from manual coding via article-code view).\" )\n",
    "#adn_qs = adn_qs.filter( content_json__icontains = \"person_array\" )\n",
    "\n",
    "adn_count = adn_qs.count()\n",
    "\n",
    "# loop\n",
    "for adn_instance in adn_qs:\n",
    "\n",
    "    # set note_type to \"Manual_Article_Subject_Coding_data_store_json\"\n",
    "    adn_instance.note_type = \"Manual_Article_Subject_Coding_data_store_json\"\n",
    "    \n",
    "    # add tags \"data_store_json\", \"Manual_Article_Subject_Coding_data_store_json\", and \"methods_paper\"\n",
    "    adn_instance.tags.add( \"data_store_json\" )\n",
    "    adn_instance.tags.add( \"Manual_Article_Subject_Coding_data_store_json\" )\n",
    "    adn_instance.tags.add( \"methods_paper\" )\n",
    "\n",
    "    # update Description to \"Data Store JSON (likely from manual coding via article-code view).\"\n",
    "    adn_instance.content_description = \"Manual_Article_Subject_Coding Data Store JSON (likely from manual coding via article-code view).\"\n",
    "    \n",
    "    # save()\n",
    "    adn_instance.save()\n",
    "        \n",
    "#-- END loop over Article_Data_Notes instances --#\n",
    "\n",
    "print( \"- total Article_Data_Notes instances: {}\".format( adn_count ) )"
   ]
  },
  {
   "cell_type": "code",
   "execution_count": 101,
   "metadata": {
    "ExecuteTime": {
     "end_time": "2019-05-07T05:15:53.076919Z",
     "start_time": "2019-05-07T05:15:53.045641Z"
    }
   },
   "outputs": [
    {
     "name": "stdout",
     "output_type": "stream",
     "text": [
      "- total Article_Data_Notes instances: 1331\n"
     ]
    }
   ],
   "source": [
    "# declare variables\n",
    "adn_qs = None\n",
    "adn_count = None\n",
    "\n",
    "# get all Article_Data_Notes with content_type = 'json'\n",
    "#adn_qs = Article_Data_Notes.objects.filter( content_type = \"json\" )\n",
    "adn_qs = Article_Data_Notes.objects.all()\n",
    "#adn_qs = adn_qs.filter( content_description = \"Person Store JSON (likely from manual coding via article-code view).\" )\n",
    "adn_qs = adn_qs.filter( content_description = \"Manual_Article_Subject_Coding Data Store JSON (likely from manual coding via article-code view).\" )\n",
    "adn_qs = adn_qs.filter( note_type = \"Manual_Article_Subject_Coding_data_store_json\" )\n",
    "adn_qs = adn_qs.filter( tags__name = \"Manual_Article_Subject_Coding_data_store_json\" )\n",
    "adn_qs = adn_qs.filter( tags__name = \"data_store_json\" )\n",
    "adn_qs = adn_qs.filter( tags__name = \"methods_paper\" )\n",
    "adn_qs = adn_qs.filter( content__isnull = True )\n",
    "adn_qs = adn_qs.filter( content_json__isnull = False )\n",
    "#adn_qs = adn_qs.filter( note_type__isnull = True )\n",
    "\n",
    "#adn_qs = adn_qs.filter( content_json__icontains = \"person_array\" )\n",
    "\n",
    "adn_count = adn_qs.count()\n",
    "\n",
    "print( \"- total Article_Data_Notes instances: {}\".format( adn_count ) )"
   ]
  },
  {
   "cell_type": "markdown",
   "metadata": {},
   "source": [
    "##  OpenCalais v.2 JSON\n",
    "\n",
    "- Back to [Table of Contents](#Table-of-Contents)\n",
    "\n",
    "For OpenCalais JSON:\n",
    "\n",
    "- if content_description is \"OpenCalais_REST_API_v2 response JSON\":\n",
    "\n",
    "    - set note_type to \"OpenCalais_REST_API_v2_json\"\n",
    "    - add tags:\n",
    "\n",
    "        - \"OpenCalais_REST_API_v2_json\"\n",
    "        - \"methods_paper\""
   ]
  },
  {
   "cell_type": "code",
   "execution_count": 49,
   "metadata": {
    "ExecuteTime": {
     "end_time": "2019-05-06T22:21:03.876514Z",
     "start_time": "2019-05-06T22:20:50.817393Z"
    }
   },
   "outputs": [
    {
     "name": "stdout",
     "output_type": "stream",
     "text": [
      "- total Article_Data_Notes instances: 1027\n"
     ]
    }
   ],
   "source": [
    "# declare variables\n",
    "adn_qs = None\n",
    "adn_count = None\n",
    "\n",
    "# get all Article_Data_Notes with content_type = 'json'\n",
    "#adn_qs = Article_Data_Notes.objects.filter( content_type = \"json\" )\n",
    "adn_qs = Article_Data_Notes.objects.all()\n",
    "adn_qs = adn_qs.filter( content_description = \"OpenCalais_REST_API_v2 response JSON\" )\n",
    "\n",
    "adn_count = adn_qs.count()\n",
    "\n",
    "# loop\n",
    "for adn_instance in adn_qs:\n",
    "\n",
    "    # set note_type to \"data_store_json\"\n",
    "    adn_instance.note_type = \"OpenCalais_REST_API_v2_json\"\n",
    "    \n",
    "    # add tags \"OpenCalais_REST_API_v2_json\" and \"methods_paper\"\n",
    "    adn_instance.tags.add( \"OpenCalais_REST_API_v2_json\" )\n",
    "    adn_instance.tags.add( \"methods_paper\" )\n",
    "\n",
    "    # save()\n",
    "    adn_instance.save()\n",
    "        \n",
    "#-- END loop over Article_Data_Notes instances --#\n",
    "\n",
    "print( \"- total Article_Data_Notes instances: {}\".format( adn_count ) )"
   ]
  },
  {
   "cell_type": "code",
   "execution_count": 97,
   "metadata": {
    "ExecuteTime": {
     "end_time": "2019-05-07T05:12:28.618928Z",
     "start_time": "2019-05-07T05:12:28.605408Z"
    }
   },
   "outputs": [
    {
     "name": "stdout",
     "output_type": "stream",
     "text": [
      "- total Article_Data_Notes instances: 1027\n"
     ]
    }
   ],
   "source": [
    "# declare variables\n",
    "adn_qs = None\n",
    "adn_count = None\n",
    "\n",
    "# get all Article_Data_Notes with content_type = 'json'\n",
    "#adn_qs = Article_Data_Notes.objects.filter( content_type = \"json\" )\n",
    "adn_qs = Article_Data_Notes.objects.all()\n",
    "adn_qs = adn_qs.filter( content_description = \"OpenCalais_REST_API_v2 response JSON\" )\n",
    "adn_qs = adn_qs.filter( note_type = \"OpenCalais_REST_API_v2_json\" )\n",
    "adn_qs = adn_qs.filter( tags__name = \"OpenCalais_REST_API_v2_json\" )\n",
    "adn_qs = adn_qs.filter( tags__name = \"methods_paper\" )\n",
    "adn_qs = adn_qs.filter( content__isnull = True )\n",
    "adn_qs = adn_qs.filter( content_json__isnull = False )\n",
    "#adn_qs = adn_qs.filter( content_description__icontains = \"OpenCalais\" )\n",
    "\n",
    "adn_count = adn_qs.count()\n",
    "\n",
    "print( \"- total Article_Data_Notes instances: {}\".format( adn_count ) )"
   ]
  },
  {
   "cell_type": "code",
   "execution_count": 100,
   "metadata": {
    "ExecuteTime": {
     "end_time": "2019-05-07T05:15:17.144203Z",
     "start_time": "2019-05-07T05:15:17.114166Z"
    }
   },
   "outputs": [
    {
     "name": "stdout",
     "output_type": "stream",
     "text": [
      "1904 - Manual_Article_Subject_Coding Data Store JSON (likely from manual coding via article-code view). of type \"json\" for article_data: 2154 - minnesota1 - no coder_type -- Article: 379266 - Jan 07, 2005, City and Region ( B4 ), UID: 1078B3256CED5FDA - Men burned when ammonia-filled fire extinguisher bursts in car - They are suspected of using device to make methamphetamine ( Grand Rapids Press, The )\n"
     ]
    }
   ],
   "source": [
    "adn_instance = adn_qs.get()\n",
    "print( adn_instance )"
   ]
  },
  {
   "cell_type": "markdown",
   "metadata": {},
   "source": [
    "##  OpenCalais v.1 JSON\n",
    "\n",
    "- Back to [Table of Contents](#Table-of-Contents)\n",
    "\n",
    "For OpenCalais JSON:\n",
    "\n",
    "- if content_description is \"OpenCalais REST API response JSON\":\n",
    "\n",
    "    - set note_type to \"OpenCalais_REST_API_v1_json\"\n",
    "    - add tags:\n",
    "\n",
    "        - \"OpenCalais_REST_API_v1_json\"\n",
    "        - \"methods_paper\""
   ]
  },
  {
   "cell_type": "code",
   "execution_count": 59,
   "metadata": {
    "ExecuteTime": {
     "end_time": "2019-05-06T22:33:38.864707Z",
     "start_time": "2019-05-06T22:33:32.744042Z"
    }
   },
   "outputs": [
    {
     "name": "stdout",
     "output_type": "stream",
     "text": [
      "- total Article_Data_Notes instances: 514\n"
     ]
    }
   ],
   "source": [
    "# declare variables\n",
    "adn_qs = None\n",
    "adn_count = None\n",
    "\n",
    "# get all Article_Data_Notes with content_type = 'json'\n",
    "#adn_qs = Article_Data_Notes.objects.filter( content_type = \"json\" )\n",
    "adn_qs = Article_Data_Notes.objects.all()\n",
    "adn_qs = adn_qs.filter( content_description = \"OpenCalais REST API response JSON\" )\n",
    "\n",
    "\n",
    "adn_count = adn_qs.count()\n",
    "\n",
    "# loop\n",
    "for adn_instance in adn_qs:\n",
    "\n",
    "    # set note_type to \"data_store_json\"\n",
    "    adn_instance.note_type = \"OpenCalais_REST_API_v1_json\"\n",
    "    \n",
    "    # add tags \"OpenCalais_REST_API_v1_json\" and \"methods_paper\"\n",
    "    adn_instance.tags.add( \"OpenCalais_REST_API_v1_json\" )\n",
    "    adn_instance.tags.add( \"methods_paper\" )\n",
    "\n",
    "    # save()\n",
    "    adn_instance.save()\n",
    "        \n",
    "#-- END loop over Article_Data_Notes instances --#\n",
    "\n",
    "print( \"- total Article_Data_Notes instances: {}\".format( adn_count ) )"
   ]
  },
  {
   "cell_type": "code",
   "execution_count": 58,
   "metadata": {
    "ExecuteTime": {
     "end_time": "2019-05-06T22:33:24.382201Z",
     "start_time": "2019-05-06T22:33:24.010485Z"
    }
   },
   "outputs": [
    {
     "name": "stdout",
     "output_type": "stream",
     "text": [
      "- total Article_Data_Notes instances: 514\n",
      "- description_set = {'OpenCalais REST API response JSON'}\n"
     ]
    }
   ],
   "source": [
    "# declare variables\n",
    "adn_qs = None\n",
    "adn_count = None\n",
    "adn_desc = None\n",
    "description_set = set()\n",
    "\n",
    "# get all Article_Data_Notes with content_type = 'json'\n",
    "#adn_qs = Article_Data_Notes.objects.filter( content_type = \"json\" )\n",
    "adn_qs = Article_Data_Notes.objects.all()\n",
    "#adn_qs = adn_qs.filter( note_type__isnull == True )\n",
    "#adn_qs = adn_qs.filter( content_description__icontains = \"OpenCalais\" )\n",
    "adn_qs = adn_qs.filter( content_description = \"OpenCalais REST API response JSON\" )\n",
    "\n",
    "\n",
    "adn_count = adn_qs.count()\n",
    "\n",
    "# loop\n",
    "for adn_instance in adn_qs:\n",
    "    \n",
    "    # get desc\n",
    "    adn_desc = adn_instance.content_description\n",
    "    \n",
    "    # in set?\n",
    "    if ( adn_desc not in description_set ):\n",
    "        \n",
    "        description_set.add( adn_desc )\n",
    "        \n",
    "    #-- END check if desc is in set --#\n",
    "        \n",
    "#-- END loop over Article_Data_Notes instances --#\n",
    "\n",
    "print( \"- total Article_Data_Notes instances: {}\".format( adn_count ) )\n",
    "print( \"- description_set = {}\".format( description_set ) )"
   ]
  },
  {
   "cell_type": "markdown",
   "metadata": {},
   "source": [
    "## data set mention coding\n",
    "\n",
    "- Back to [Table of Contents](#Table-of-Contents)\n",
    "\n",
    "For data set coding JSON (technically in the `context_data` application, but just taking care of it all here):\n",
    "\n",
    "- if content_description starts with \"Data Store JSON (likely from manual coding of mentions via data_set-mentions-code view)\":\n",
    "\n",
    "    - set note_type to \"Manual_Data_Set_Mentions_Coding_data_store_json\"\n",
    "    - add tags:\n",
    "\n",
    "        - \"Manual_Data_Set_Mentions_Coding_data_store_json\"\n",
    "        - \"data_store_json\"\n",
    "        \n",
    "    - update content_description to prepend \"Manual_Data_Set_Mentions_Coding \" to the beginning."
   ]
  },
  {
   "cell_type": "code",
   "execution_count": 77,
   "metadata": {
    "ExecuteTime": {
     "end_time": "2019-05-07T03:20:44.646469Z",
     "start_time": "2019-05-07T03:20:44.345980Z"
    }
   },
   "outputs": [
    {
     "name": "stdout",
     "output_type": "stream",
     "text": [
      "- total Article_Data_Notes instances: 28\n"
     ]
    }
   ],
   "source": [
    "# declare variables\n",
    "adn_qs = None\n",
    "adn_count = None\n",
    "\n",
    "# get all Article_Data_Notes with content_type = 'json'\n",
    "#adn_qs = Article_Data_Notes.objects.filter( content_type = \"json\" )\n",
    "adn_qs = Article_Data_Notes.objects.all()\n",
    "adn_qs = adn_qs.filter( content_description__icontains = \"Data Store JSON (likely from manual coding of mentions via data_set-mentions-code view)\" )\n",
    "adn_qs = adn_qs.filter( note_type__isnull = True )\n",
    "\n",
    "adn_count = adn_qs.count()\n",
    "\n",
    "# loop\n",
    "for adn_instance in adn_qs:\n",
    "\n",
    "    # set note_type to \"data_set_mention_data_store_json\"\n",
    "    adn_instance.note_type = \"Manual_Data_Set_Mentions_Coding_data_store_json\"\n",
    "    \n",
    "    # add tags \"data_store_json\", \"data_set_mention_data_store_json\"\n",
    "    adn_instance.tags.add( \"data_store_json\" )\n",
    "    adn_instance.tags.add( \"Manual_Data_Set_Mentions_Coding_data_store_json\" )\n",
    "\n",
    "    # update Description to \"Data Store JSON (likely from manual coding via article-code view).\"\n",
    "    adn_instance.content_description = \"Manual_Data_Set_Mentions_Coding {}\".format( adn_instance.content_description )\n",
    "    \n",
    "    # save()\n",
    "    adn_instance.save()\n",
    "        \n",
    "#-- END loop over Article_Data_Notes instances --#\n",
    "\n",
    "print( \"- total Article_Data_Notes instances: {}\".format( adn_count ) )"
   ]
  },
  {
   "cell_type": "code",
   "execution_count": 102,
   "metadata": {
    "ExecuteTime": {
     "end_time": "2019-05-07T05:16:19.254583Z",
     "start_time": "2019-05-07T05:16:19.242090Z"
    }
   },
   "outputs": [
    {
     "name": "stdout",
     "output_type": "stream",
     "text": [
      "- total Article_Data_Notes instances: 28\n"
     ]
    }
   ],
   "source": [
    "# declare variables\n",
    "adn_qs = None\n",
    "adn_count = None\n",
    "\n",
    "# get all Article_Data_Notes with content_type = 'json'\n",
    "#adn_qs = Article_Data_Notes.objects.filter( content_type = \"json\" )\n",
    "adn_qs = Article_Data_Notes.objects.all()\n",
    "#adn_qs = adn_qs.filter( content_description__icontains = \"Data Store JSON (likely from manual coding of mentions via data_set-mentions-code view)\" )\n",
    "#adn_qs = adn_qs.filter( note_type__isnull = True )\n",
    "adn_qs = adn_qs.filter( content_description__icontains = \"Manual_Data_Set_Mentions_Coding Data Store JSON (likely from manual coding of mentions via data_set-mentions-code view)\" )\n",
    "adn_qs = adn_qs.filter( note_type = \"Manual_Data_Set_Mentions_Coding_data_store_json\" )\n",
    "adn_qs = adn_qs.filter( tags__name = \"Manual_Data_Set_Mentions_Coding_data_store_json\" )\n",
    "adn_qs = adn_qs.filter( tags__name = \"data_store_json\" )\n",
    "adn_qs = adn_qs.filter( content__isnull = True )\n",
    "adn_qs = adn_qs.filter( content_json__isnull = False )\n",
    "\n",
    "#adn_qs = adn_qs.filter( content_json__icontains = \"person_array\" )\n",
    "\n",
    "adn_count = adn_qs.count()\n",
    "\n",
    "print( \"- total Article_Data_Notes instances: {}\".format( adn_count ) )"
   ]
  },
  {
   "cell_type": "markdown",
   "metadata": {},
   "source": [
    "## cleanup\n",
    "\n",
    "- Back to [Table of Contents](#Table-of-Contents)\n",
    "\n",
    "Look for any with a content_description not in:\n",
    "\n",
    "- OpenCalais REST API response JSON\n",
    "- OpenCalais_REST_API_v2 response JSON\n",
    "- Data Store JSON (likely from manual coding via article-code view)."
   ]
  },
  {
   "cell_type": "code",
   "execution_count": 88,
   "metadata": {
    "ExecuteTime": {
     "end_time": "2019-05-07T04:18:07.185664Z",
     "start_time": "2019-05-07T04:18:07.167930Z"
    },
    "scrolled": true
   },
   "outputs": [
    {
     "name": "stdout",
     "output_type": "stream",
     "text": [
      "- total Article_Data_Notes instances: 0\n",
      "- unknown_count = 0\n"
     ]
    }
   ],
   "source": [
    "# declare variables\n",
    "adn_qs = None\n",
    "adn_count = None\n",
    "adn_desc = None\n",
    "known_description_set = set()\n",
    "unknown_count = None\n",
    "unknown_id_to_instance_map = {}\n",
    "\n",
    "# init known_description_set\n",
    "known_description_set.add( \"OpenCalais REST API response JSON\" )\n",
    "known_description_set.add( \"OpenCalais_REST_API_v2 response JSON\" )\n",
    "known_description_set.add( \"Article Subject Data Store JSON (likely from manual coding via article-code view).\" )\n",
    "known_description_set.add( \"Data Store JSON (likely from manual coding of mentions via data_set-mentions-code view)\" )\n",
    "\n",
    "# get all Article_Data_Notes with content_type = 'json'\n",
    "#adn_qs = Article_Data_Notes.objects.filter( content_type = \"json\" )\n",
    "adn_qs = Article_Data_Notes.objects.all()\n",
    "adn_qs = adn_qs.filter( note_type__isnull = True )\n",
    "#adn_qs = adn_qs.filter( content_description__icontains = \"OpenCalais\" )\n",
    "#adn_qs = adn_qs.filter( content_description__icontains = \"Data Store JSON (likely from manual coding of mentions via data_set-mentions-code view)\" )\n",
    "#adn_qs = adn_qs.filter( content_description = \"OpenCalais REST API response JSON\" )\n",
    "#adn_qs = adn_qs.exclude( content_description__in = known_description_set )\n",
    "\n",
    "adn_count = adn_qs.count()\n",
    "\n",
    "# loop\n",
    "unknown_count = 0\n",
    "for adn_instance in adn_qs:\n",
    "    \n",
    "    # get desc\n",
    "    adn_desc = adn_instance.content_description\n",
    "    \n",
    "    # in known set?\n",
    "    if ( adn_desc not in known_description_set ):\n",
    "        \n",
    "        # no.\n",
    "        unknown_count += 1\n",
    "        unknown_id_to_instance_map[ adn_instance.id ] = adn_instance\n",
    "        \n",
    "    #-- END check if desc is in set --#\n",
    "        \n",
    "#-- END loop over Article_Data_Notes instances --#\n",
    "\n",
    "print( \"- total Article_Data_Notes instances: {}\".format( adn_count ) )\n",
    "print( \"- unknown_count = {}\".format( unknown_count ) )\n",
    "\n",
    "for adn_id, adn_instance in six.iteritems( unknown_id_to_instance_map ):\n",
    "\n",
    "    # print out the \n",
    "    print( \"--> id {}: {}\".format( adn_id, adn_instance.content_description ) )\n",
    "    \n",
    "#-- END loop over unknown items --#"
   ]
  },
  {
   "cell_type": "markdown",
   "metadata": {},
   "source": [
    "# Other things\n",
    "\n",
    "- Back to [Table of Contents](#Table-of-Contents)\n",
    "\n",
    "DONE:\n",
    "\n",
    "- update the collector for OpenCalais so it creates ArticleDataNotes this way from the start.\n",
    "- look at other places that make Article_Data_Notes and make sure they too are updated to do this better job:\n",
    "\n",
    "    - the article subject coding page view in `context_text`.\n",
    "    - the data set mention coding page view in `context_data`.\n",
    "    - other places? Figure out a search string to grep for from the above.\n",
    "    \n",
    "            grep -r -n \"=\\ Article_Data_Notes()\" .\n",
    "            \n",
    "- test:\n",
    "\n",
    "        ./context_data/coding/data_set_citations/manual/manual_data_set_citations_coder.py:1017:                                json_article_data_note = Article_Data_Notes()\n",
    "        ./context_data/coding/data_set_mentions/manual/manual_data_set_mentions_coder.py:1019:                                json_article_data_note = Article_Data_Notes()\n",
    "        ./context_text/article_coding/manual_coding/manual_article_coder.py:930:                            json_article_data_note = Article_Data_Notes()\n",
    "        ./context_text/article_coding/open_calais_v2/open_calais_v2_article_coder.py:798:                            my_json_note = Article_Data_Notes()\n",
    "        ./context_text/article_coding/open_calais_v1/open_calais_article_coder.py:733:                            my_json_note = Article_Data_Notes()\n"
   ]
  }
 ],
 "metadata": {
  "kernelspec": {
   "display_name": "research_virtualenv",
   "language": "python",
   "name": "research"
  },
  "language_info": {
   "codemirror_mode": {
    "name": "ipython",
    "version": 3
   },
   "file_extension": ".py",
   "mimetype": "text/x-python",
   "name": "python",
   "nbconvert_exporter": "python",
   "pygments_lexer": "ipython3",
   "version": "3.6.5"
  },
  "toc": {
   "base_numbering": 1,
   "nav_menu": {},
   "number_sections": true,
   "sideBar": true,
   "skip_h1_title": false,
   "title_cell": "Table of Contents",
   "title_sidebar": "Contents",
   "toc_cell": true,
   "toc_position": {},
   "toc_section_display": true,
   "toc_window_display": true
  }
 },
 "nbformat": 4,
 "nbformat_minor": 2
}
